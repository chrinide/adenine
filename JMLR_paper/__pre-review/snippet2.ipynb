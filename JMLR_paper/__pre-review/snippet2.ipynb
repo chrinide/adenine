{
 "cells": [
  {
   "cell_type": "code",
   "execution_count": null,
   "metadata": {
    "collapsed": true
   },
   "outputs": [],
   "source": [
    "from adenine.utils import data_source\n",
    "X, y, feats, classes = data_source.load('custom', 'data.csv', 'labels.csv')\n",
    "step1 = {'Normalize': [True, {'norm': 'l2'}]} # Preprocessing\n",
    "step2 = {'KernelPCA': [True, {'kernel': ['rbf'], 'n_components': 3, 'gamma':\n",
    "2}], 'Isomap': [True, {'n_components': 3}]} # Dimensionality reduction\n",
    "step3 = {'KMeans': [True, {'n_clusters': ['auto']}]} # Clustering"
   ]
  }
 ],
 "metadata": {
  "kernelspec": {
   "display_name": "Python 2",
   "language": "python",
   "name": "python2"
  },
  "language_info": {
   "codemirror_mode": {
    "name": "ipython",
    "version": 2
   },
   "file_extension": ".py",
   "mimetype": "text/x-python",
   "name": "python",
   "nbconvert_exporter": "python",
   "pygments_lexer": "ipython2",
   "version": "2.7.11"
  }
 },
 "nbformat": 4,
 "nbformat_minor": 0
}
